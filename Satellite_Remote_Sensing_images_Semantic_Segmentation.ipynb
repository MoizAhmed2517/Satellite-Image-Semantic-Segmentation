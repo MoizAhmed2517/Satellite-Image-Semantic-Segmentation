{
  "nbformat": 4,
  "nbformat_minor": 0,
  "metadata": {
    "colab": {
      "provenance": [],
      "authorship_tag": "ABX9TyMbjKoPK6GxPAG2qHmeR84Z",
      "include_colab_link": true
    },
    "kernelspec": {
      "name": "python3",
      "display_name": "Python 3"
    },
    "language_info": {
      "name": "python"
    }
  },
  "cells": [
    {
      "cell_type": "markdown",
      "metadata": {
        "id": "view-in-github",
        "colab_type": "text"
      },
      "source": [
        "<a href=\"https://colab.research.google.com/github/MoizAhmed2517/Satellite-Image-Semantic-Segmentation/blob/main/Satellite_Remote_Sensing_images_Semantic_Segmentation.ipynb\" target=\"_parent\"><img src=\"https://colab.research.google.com/assets/colab-badge.svg\" alt=\"Open In Colab\"/></a>"
      ]
    },
    {
      "cell_type": "markdown",
      "source": [
        "### Setting Drive settings"
      ],
      "metadata": {
        "id": "dsEpOAsYahCp"
      }
    },
    {
      "cell_type": "code",
      "source": [
        "!pip install patchify"
      ],
      "metadata": {
        "id": "ROqX5Au0nitd",
        "outputId": "66cbb375-510f-4f4d-c9b2-ea21192cef7a",
        "colab": {
          "base_uri": "https://localhost:8080/"
        }
      },
      "execution_count": null,
      "outputs": [
        {
          "output_type": "stream",
          "name": "stdout",
          "text": [
            "Collecting patchify\n",
            "  Downloading patchify-0.2.3-py3-none-any.whl.metadata (3.0 kB)\n",
            "Requirement already satisfied: numpy<2,>=1 in /usr/local/lib/python3.10/dist-packages (from patchify) (1.26.4)\n",
            "Downloading patchify-0.2.3-py3-none-any.whl (6.6 kB)\n",
            "Installing collected packages: patchify\n",
            "Successfully installed patchify-0.2.3\n"
          ]
        }
      ]
    },
    {
      "cell_type": "code",
      "source": [
        "from google.colab import drive\n",
        "drive.mount('/content/drive/')"
      ],
      "metadata": {
        "id": "viHQ6IAfrIBB",
        "colab": {
          "base_uri": "https://localhost:8080/"
        },
        "outputId": "59fbe6e0-b41e-49a9-f910-919cadd07284"
      },
      "execution_count": null,
      "outputs": [
        {
          "output_type": "stream",
          "name": "stdout",
          "text": [
            "Mounted at /content/drive/\n"
          ]
        }
      ]
    },
    {
      "cell_type": "code",
      "source": [
        "%cd drive/MyDrive/ColabNotebooks"
      ],
      "metadata": {
        "colab": {
          "base_uri": "https://localhost:8080/"
        },
        "id": "EWqCD45XZMXA",
        "outputId": "92a3162f-b25d-4f08-f79d-2371837879df"
      },
      "execution_count": null,
      "outputs": [
        {
          "output_type": "stream",
          "name": "stdout",
          "text": [
            "/content/drive/MyDrive/ColabNotebooks\n"
          ]
        }
      ]
    },
    {
      "cell_type": "markdown",
      "source": [
        "### Setup datapath"
      ],
      "metadata": {
        "id": "FtYUhE-gaoA8"
      }
    },
    {
      "cell_type": "code",
      "execution_count": null,
      "metadata": {
        "id": "6B9W53japaUi"
      },
      "outputs": [],
      "source": [
        "import os\n",
        "import cv2\n",
        "from PIL import Image\n",
        "import numpy as np\n",
        "from patchify import patchify, unpatchify\n",
        "from google.colab.patches import cv2_imshow\n",
        "from sklearn.preprocessing import MinMaxScaler, StandardScaler"
      ]
    },
    {
      "cell_type": "code",
      "source": [
        "folder = 'satellite_imagery_data'\n",
        "images = []\n",
        "for path, dir, files in os.walk(folder):\n",
        "  for file in files:\n",
        "    if file.lower().endswith('.png'):\n",
        "      images.append(os.path.join(path, file))"
      ],
      "metadata": {
        "id": "zZ1zS8jUZODU"
      },
      "execution_count": null,
      "outputs": []
    },
    {
      "cell_type": "code",
      "source": [
        "mask_data = []\n",
        "# Cropping technique\n",
        "image = cv2.imread(images[5], 1)\n",
        "print(\"Original Image Shape:\", image.shape)\n",
        "image_patch_size = 256\n",
        "\n",
        "size_x = (image.shape[1] // image_patch_size) * image_patch_size\n",
        "size_y = (image.shape[0] // image_patch_size) * image_patch_size\n",
        "\n",
        "image = Image.fromarray(image)\n",
        "image = image.crop((0, 0, size_x, size_y))\n",
        "image = np.array(image)\n",
        "print(\"Crop Image shape:\", image.shape)\n",
        "image_patches = patchify(image, (image_patch_size, image_patch_size, 3), step=image_patch_size)\n",
        "print(\"Image patches shape:\", image_patches.shape)\n",
        "\n",
        "# getting patch of images:\n",
        "\n",
        "for i in range(image_patches.shape[0]):\n",
        "  for j in range(image_patches.shape[1]):\n",
        "    single_patch_img = image_patches[i, j, :, :]\n",
        "    patch_img = Image.fromarray(image)\n",
        "    img = np.squeeze(single_patch_img, axis=0)\n",
        "    print(\"Patch Shape:\", img.shape)\n",
        "    mask_data.append(img)"
      ],
      "metadata": {
        "colab": {
          "base_uri": "https://localhost:8080/"
        },
        "id": "3neb_hvjaV-J",
        "outputId": "7f9de5e8-b94d-4e04-ea76-e62db2065c42"
      },
      "execution_count": null,
      "outputs": [
        {
          "output_type": "stream",
          "name": "stdout",
          "text": [
            "Original Image Shape: (544, 509, 3)\n",
            "Crop Image shape: (512, 256, 3)\n",
            "Image patches shape: (2, 1, 1, 256, 256, 3)\n",
            "Patch Shape: (256, 256, 3)\n",
            "Patch Shape: (256, 256, 3)\n"
          ]
        }
      ]
    },
    {
      "cell_type": "code",
      "source": [
        "mask_data"
      ],
      "metadata": {
        "id": "AqqC48tPXKll",
        "outputId": "b127a45e-973b-439f-bb7a-edd282a4dd50",
        "colab": {
          "base_uri": "https://localhost:8080/"
        }
      },
      "execution_count": null,
      "outputs": [
        {
          "output_type": "execute_result",
          "data": {
            "text/plain": [
              "[array([[[246,  41, 132],\n",
              "         [246,  41, 132],\n",
              "         [246,  41, 132],\n",
              "         ...,\n",
              "         [152,  16,  60],\n",
              "         [152,  16,  60],\n",
              "         [152,  16,  60]],\n",
              " \n",
              "        [[246,  41, 132],\n",
              "         [246,  41, 132],\n",
              "         [246,  41, 132],\n",
              "         ...,\n",
              "         [152,  16,  60],\n",
              "         [152,  16,  60],\n",
              "         [152,  16,  60]],\n",
              " \n",
              "        [[246,  41, 132],\n",
              "         [246,  41, 132],\n",
              "         [246,  41, 132],\n",
              "         ...,\n",
              "         [152,  16,  60],\n",
              "         [152,  16,  60],\n",
              "         [152,  16,  60]],\n",
              " \n",
              "        ...,\n",
              " \n",
              "        [[246,  41, 132],\n",
              "         [246,  41, 132],\n",
              "         [246,  41, 132],\n",
              "         ...,\n",
              "         [246,  41, 132],\n",
              "         [228, 193, 110],\n",
              "         [228, 193, 110]],\n",
              " \n",
              "        [[246,  41, 132],\n",
              "         [246,  41, 132],\n",
              "         [246,  41, 132],\n",
              "         ...,\n",
              "         [246,  41, 132],\n",
              "         [246,  41, 132],\n",
              "         [228, 193, 110]],\n",
              " \n",
              "        [[246,  41, 132],\n",
              "         [246,  41, 132],\n",
              "         [246,  41, 132],\n",
              "         ...,\n",
              "         [246,  41, 132],\n",
              "         [246,  41, 132],\n",
              "         [246,  41, 132]]], dtype=uint8),\n",
              " array([[[246,  41, 132],\n",
              "         [246,  41, 132],\n",
              "         [246,  41, 132],\n",
              "         ...,\n",
              "         [246,  41, 132],\n",
              "         [246,  41, 132],\n",
              "         [246,  41, 132]],\n",
              " \n",
              "        [[246,  41, 132],\n",
              "         [246,  41, 132],\n",
              "         [246,  41, 132],\n",
              "         ...,\n",
              "         [246,  41, 132],\n",
              "         [246,  41, 132],\n",
              "         [246,  41, 132]],\n",
              " \n",
              "        [[246,  41, 132],\n",
              "         [246,  41, 132],\n",
              "         [246,  41, 132],\n",
              "         ...,\n",
              "         [246,  41, 132],\n",
              "         [246,  41, 132],\n",
              "         [246,  41, 132]],\n",
              " \n",
              "        ...,\n",
              " \n",
              "        [[246,  41, 132],\n",
              "         [246,  41, 132],\n",
              "         [246,  41, 132],\n",
              "         ...,\n",
              "         [228, 193, 110],\n",
              "         [228, 193, 110],\n",
              "         [228, 193, 110]],\n",
              " \n",
              "        [[246,  41, 132],\n",
              "         [246,  41, 132],\n",
              "         [246,  41, 132],\n",
              "         ...,\n",
              "         [228, 193, 110],\n",
              "         [228, 193, 110],\n",
              "         [228, 193, 110]],\n",
              " \n",
              "        [[246,  41, 132],\n",
              "         [246,  41, 132],\n",
              "         [246,  41, 132],\n",
              "         ...,\n",
              "         [228, 193, 110],\n",
              "         [228, 193, 110],\n",
              "         [228, 193, 110]]], dtype=uint8)]"
            ]
          },
          "metadata": {},
          "execution_count": 51
        }
      ]
    },
    {
      "cell_type": "code",
      "source": [
        "## Padding technique\n",
        "\n",
        "# Read the image (replace with your image)\n",
        "image = cv2.imread(images[5], 1)\n",
        "print(\"Original Image Shape:\", image.shape)\n",
        "\n",
        "image_patch_size = 128\n",
        "\n",
        "# Calculate the required padding dimensions to make the image size divisible by patch size\n",
        "pad_x = (image_patch_size - image.shape[1] % image_patch_size) % image_patch_size\n",
        "pad_y = (image_patch_size - image.shape[0] % image_patch_size) % image_patch_size\n",
        "\n",
        "# Pad the image (adding padding to the right and bottom to match patch size)\n",
        "image_padded = cv2.copyMakeBorder(image, 0, pad_y, 0, pad_x, cv2.BORDER_CONSTANT, value=(246, 41, 132))\n",
        "\n",
        "print(\"Padded Image Shape:\", image_padded.shape)\n",
        "\n",
        "# Patchify the image\n",
        "image_patches = patchify(image_padded, (image_patch_size, image_patch_size, 3), step=image_patch_size)\n",
        "print(\"Image Patches Shape:\", image_patches.shape)\n",
        "\n",
        "# Loop through the patches and display them\n",
        "for i in range(image_patches.shape[0]):\n",
        "    for j in range(image_patches.shape[1]):\n",
        "        # Extract a single patch\n",
        "        single_patch_img = image_patches[i, j, 0, :, :, :]  # Remove the extra dimension\n",
        "        print(\"Patch Shape:\", single_patch_img.shape)\n",
        "\n",
        "        # Display the patch\n",
        "        cv2_imshow(single_patch_img)"
      ],
      "metadata": {
        "colab": {
          "base_uri": "https://localhost:8080/",
          "height": 1000
        },
        "id": "H_tniOX0P5im",
        "outputId": "dea37bd6-021c-4df9-9b4f-5e176093cab6"
      },
      "execution_count": null,
      "outputs": [
        {
          "output_type": "stream",
          "name": "stdout",
          "text": [
            "Original Image Shape: (544, 509, 3)\n",
            "Padded Image Shape: (640, 512, 3)\n",
            "Image Patches Shape: (5, 4, 1, 128, 128, 3)\n",
            "Patch Shape: (128, 128, 3)\n"
          ]
        },
        {
          "output_type": "display_data",
          "data": {
            "text/plain": [
              "<PIL.Image.Image image mode=RGB size=128x128>"
            ],
            "image/png": "[encoded data removed]"
          },
          "metadata": {}
        },
        {
          "output_type": "stream",
          "name": "stdout",
          "text": [
            "Patch Shape: (128, 128, 3)\n"
          ]
        },
        {
          "output_type": "display_data",
          "data": {
            "text/plain": [
              "<PIL.Image.Image image mode=RGB size=128x128>"
            ],
            "image/png": "[encoded data removed]"
          },
          "metadata": {}
        },
        {
          "output_type": "stream",
          "name": "stdout",
          "text": [
            "Patch Shape: (128, 128, 3)\n"
          ]
        },
        {
          "output_type": "display_data",
          "data": {
            "text/plain": [
              "<PIL.Image.Image image mode=RGB size=128x128>"
            ],
            "image/png": "[encoded data removed]"
          },
          "metadata": {}
        },
        {
          "output_type": "stream",
          "name": "stdout",
          "text": [
            "Patch Shape: (128, 128, 3)\n"
          ]
        },
        {
          "output_type": "display_data",
          "data": {
            "text/plain": [
              "<PIL.Image.Image image mode=RGB size=128x128>"
            ],
            "image/png": "[encoded data removed]"
          },
          "metadata": {}
        },
        {
          "output_type": "stream",
          "name": "stdout",
          "text": [
            "Patch Shape: (128, 128, 3)\n"
          ]
        },
        {
          "output_type": "display_data",
          "data": {
            "text/plain": [
              "<PIL.Image.Image image mode=RGB size=128x128>"
            ],
            "image/png": "[encoded data removed]"
          },
          "metadata": {}
        },
        {
          "output_type": "stream",
          "name": "stdout",
          "text": [
            "Patch Shape: (128, 128, 3)\n"
          ]
        },
        {
          "output_type": "display_data",
          "data": {
            "text/plain": [
              "<PIL.Image.Image image mode=RGB size=128x128>"
            ],
            "image/png": "[encoded data removed]"
          },
          "metadata": {}
        },
        {
          "output_type": "stream",
          "name": "stdout",
          "text": [
            "Patch Shape: (128, 128, 3)\n"
          ]
        },
        {
          "output_type": "display_data",
          "data": {
            "text/plain": [
              "<PIL.Image.Image image mode=RGB size=128x128>"
            ],
            "image/png": "[encoded data removed]"
          },
          "metadata": {}
        },
        {
          "output_type": "stream",
          "name": "stdout",
          "text": [
            "Patch Shape: (128, 128, 3)\n"
          ]
        },
        {
          "output_type": "display_data",
          "data": {
            "text/plain": [
              "<PIL.Image.Image image mode=RGB size=128x128>"
            ],
            "image/png": "[encoded data removed]"
          },
          "metadata": {}
        },
        {
          "output_type": "stream",
          "name": "stdout",
          "text": [
            "Patch Shape: (128, 128, 3)\n"
          ]
        },
        {
          "output_type": "display_data",
          "data": {
            "text/plain": [
              "<PIL.Image.Image image mode=RGB size=128x128>"
            ],
            "image/png": "[encoded data removed]"
          },
          "metadata": {}
        },
        {
          "output_type": "stream",
          "name": "stdout",
          "text": [
            "Patch Shape: (128, 128, 3)\n"
          ]
        },
        {
          "output_type": "display_data",
          "data": {
            "text/plain": [
              "<PIL.Image.Image image mode=RGB size=128x128>"
            ],
            "image/png": "[encoded data removed]"
          },
          "metadata": {}
        },
        {
          "output_type": "stream",
          "name": "stdout",
          "text": [
            "Patch Shape: (128, 128, 3)\n"
          ]
        },
        {
          "output_type": "display_data",
          "data": {
            "text/plain": [
              "<PIL.Image.Image image mode=RGB size=128x128>"
            ],
            "image/png": "[encoded data removed]"
          },
          "metadata": {}
        },
        {
          "output_type": "stream",
          "name": "stdout",
          "text": [
            "Patch Shape: (128, 128, 3)\n"
          ]
        },
        {
          "output_type": "display_data",
          "data": {
            "text/plain": [
              "<PIL.Image.Image image mode=RGB size=128x128>"
            ],
            "image/png": "[encoded data removed]"
          },
          "metadata": {}
        },
        {
          "output_type": "stream",
          "name": "stdout",
          "text": [
            "Patch Shape: (128, 128, 3)\n"
          ]
        },
        {
          "output_type": "display_data",
          "data": {
            "text/plain": [
              "<PIL.Image.Image image mode=RGB size=128x128>"
            ],
            "image/png": "[encoded data removed]"
          },
          "metadata": {}
        },
        {
          "output_type": "stream",
          "name": "stdout",
          "text": [
            "Patch Shape: (128, 128, 3)\n"
          ]
        },
        {
          "output_type": "display_data",
          "data": {
            "text/plain": [
              "<PIL.Image.Image image mode=RGB size=128x128>"
            ],
            "image/png": "[encoded data removed]"
          },
          "metadata": {}
        },
        {
          "output_type": "stream",
          "name": "stdout",
          "text": [
            "Patch Shape: (128, 128, 3)\n"
          ]
        },
        {
          "output_type": "display_data",
          "data": {
            "text/plain": [
              "<PIL.Image.Image image mode=RGB size=128x128>"
            ],
            "image/png": "[encoded data removed]"
          },
          "metadata": {}
        },
        {
          "output_type": "stream",
          "name": "stdout",
          "text": [
            "Patch Shape: (128, 128, 3)\n"
          ]
        },
        {
          "output_type": "display_data",
          "data": {
            "text/plain": [
              "<PIL.Image.Image image mode=RGB size=128x128>"
            ],
            "image/png": "[encoded data removed]"
          },
          "metadata": {}
        },
        {
          "output_type": "stream",
          "name": "stdout",
          "text": [
            "Patch Shape: (128, 128, 3)\n"
          ]
        },
        {
          "output_type": "display_data",
          "data": {
            "text/plain": [
              "<PIL.Image.Image image mode=RGB size=128x128>"
            ],
            "image/png": "[encoded data removed]"
          },
          "metadata": {}
        },
        {
          "output_type": "stream",
          "name": "stdout",
          "text": [
            "Patch Shape: (128, 128, 3)\n"
          ]
        },
        {
          "output_type": "display_data",
          "data": {
            "text/plain": [
              "<PIL.Image.Image image mode=RGB size=128x128>"
            ],
            "image/png": "[encoded data removed]"
          },
          "metadata": {}
        },
        {
          "output_type": "stream",
          "name": "stdout",
          "text": [
            "Patch Shape: (128, 128, 3)\n"
          ]
        },
        {
          "output_type": "display_data",
          "data": {
            "text/plain": [
              "<PIL.Image.Image image mode=RGB size=128x128>"
            ],
            "image/png": "[encoded data removed]"
          },
          "metadata": {}
        },
        {
          "output_type": "stream",
          "name": "stdout",
          "text": [
            "Patch Shape: (128, 128, 3)\n"
          ]
        },
        {
          "output_type": "display_data",
          "data": {
            "text/plain": [
              "<PIL.Image.Image image mode=RGB size=128x128>"
            ],
            "image/png": "[encoded data removed]"
          },
          "metadata": {}
        }
      ]
    },
    {
      "cell_type": "code",
      "source": [
        "image_patch_size = 256\n",
        "\n",
        "for image in images:\n",
        "  img = cv2.imread(image, 1)\n",
        "  print(img.shape)"
      ],
      "metadata": {
        "id": "z12AI_OkcNL7",
        "colab": {
          "base_uri": "https://localhost:8080/"
        },
        "outputId": "db5996b3-972a-45cc-c72e-9d94b850dac4"
      },
      "execution_count": null,
      "outputs": [
        {
          "output_type": "stream",
          "name": "stdout",
          "text": [
            "(544, 509, 3)\n",
            "(544, 510, 3)\n",
            "(544, 509, 3)\n",
            "(544, 509, 3)\n",
            "(544, 510, 3)\n",
            "(544, 509, 3)\n",
            "(544, 509, 3)\n",
            "(544, 509, 3)\n",
            "(544, 510, 3)\n",
            "(846, 1099, 3)\n",
            "(846, 1099, 3)\n",
            "(846, 1099, 3)\n",
            "(846, 1099, 3)\n",
            "(846, 1099, 3)\n",
            "(846, 1099, 3)\n",
            "(846, 1099, 3)\n",
            "(846, 1099, 3)\n",
            "(846, 1099, 3)\n",
            "(644, 797, 3)\n",
            "(644, 797, 3)\n",
            "(644, 797, 3)\n",
            "(643, 797, 3)\n",
            "(643, 797, 3)\n",
            "(644, 797, 3)\n",
            "(643, 797, 3)\n",
            "(644, 797, 3)\n",
            "(644, 797, 3)\n",
            "(838, 859, 3)\n",
            "(838, 859, 3)\n",
            "(838, 859, 3)\n",
            "(838, 859, 3)\n",
            "(838, 859, 3)\n",
            "(838, 859, 3)\n",
            "(838, 859, 3)\n",
            "(838, 859, 3)\n",
            "(838, 859, 3)\n",
            "(2062, 1817, 3)\n",
            "(2061, 1817, 3)\n",
            "(2061, 1816, 3)\n",
            "(2062, 1817, 3)\n",
            "(2061, 1816, 3)\n",
            "(2061, 1817, 3)\n",
            "(2061, 1817, 3)\n",
            "(2062, 1816, 3)\n",
            "(2061, 1817, 3)\n",
            "(1058, 1126, 3)\n",
            "(1058, 1126, 3)\n",
            "(1058, 1126, 3)\n",
            "(1058, 1126, 3)\n",
            "(1058, 1126, 3)\n",
            "(1058, 1126, 3)\n",
            "(1058, 1126, 3)\n",
            "(1058, 1126, 3)\n",
            "(1058, 1126, 3)\n",
            "(658, 682, 3)\n",
            "(658, 682, 3)\n",
            "(658, 682, 3)\n",
            "(658, 682, 3)\n",
            "(658, 682, 3)\n",
            "(658, 682, 3)\n",
            "(658, 682, 3)\n",
            "(658, 682, 3)\n",
            "(658, 682, 3)\n",
            "(1479, 2149, 3)\n",
            "(1479, 2149, 3)\n",
            "(1480, 2149, 3)\n",
            "(1479, 2149, 3)\n",
            "(1480, 2149, 3)\n",
            "(1479, 2149, 3)\n",
            "(1480, 2149, 3)\n",
            "(1479, 2149, 3)\n",
            "(1479, 2149, 3)\n"
          ]
        }
      ]
    },
    {
      "cell_type": "code",
      "source": [],
      "metadata": {
        "id": "DThrqIyuNwc8"
      },
      "execution_count": null,
      "outputs": []
    }
  ]
}